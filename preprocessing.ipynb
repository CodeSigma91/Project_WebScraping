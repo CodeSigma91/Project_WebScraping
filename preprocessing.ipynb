{
 "cells": [
  {
   "cell_type": "markdown",
   "metadata": {},
   "source": [
    "## Web Scraping (www.trulia.com): Processing the Data\n",
    "##### by Sabbir Mohammed"
   ]
  },
  {
   "cell_type": "markdown",
   "metadata": {},
   "source": [
    "Initializing packages: "
   ]
  },
  {
   "cell_type": "code",
   "execution_count": 23,
   "metadata": {},
   "outputs": [],
   "source": [
    "import pandas as pd\n",
    "import numpy as np\n",
    "from matplotlib import pyplot as plt\n",
    "plt.style.use('ggplot')"
   ]
  },
  {
   "cell_type": "markdown",
   "metadata": {},
   "source": [
    "Loading data set:"
   ]
  },
  {
   "cell_type": "code",
   "execution_count": 24,
   "metadata": {},
   "outputs": [],
   "source": [
    "trulia = pd.read_csv('nyc_trulia_complete_lite.csv')"
   ]
  },
  {
   "cell_type": "code",
   "execution_count": 25,
   "metadata": {
    "scrolled": false
   },
   "outputs": [
    {
     "data": {
      "text/html": [
       "<div>\n",
       "<style scoped>\n",
       "    .dataframe tbody tr th:only-of-type {\n",
       "        vertical-align: middle;\n",
       "    }\n",
       "\n",
       "    .dataframe tbody tr th {\n",
       "        vertical-align: top;\n",
       "    }\n",
       "\n",
       "    .dataframe thead th {\n",
       "        text-align: right;\n",
       "    }\n",
       "</style>\n",
       "<table border=\"1\" class=\"dataframe\">\n",
       "  <thead>\n",
       "    <tr style=\"text-align: right;\">\n",
       "      <th></th>\n",
       "      <th>address</th>\n",
       "      <th>city</th>\n",
       "      <th>soldDate</th>\n",
       "      <th>soldPrice</th>\n",
       "      <th>sqft</th>\n",
       "      <th>zipCode</th>\n",
       "    </tr>\n",
       "  </thead>\n",
       "  <tbody>\n",
       "    <tr>\n",
       "      <th>0</th>\n",
       "      <td>NaN</td>\n",
       "      <td>NaN</td>\n",
       "      <td>NaN</td>\n",
       "      <td>NaN</td>\n",
       "      <td>NaN</td>\n",
       "      <td>NaN</td>\n",
       "    </tr>\n",
       "    <tr>\n",
       "      <th>1</th>\n",
       "      <td>245 E 93rd St #26C</td>\n",
       "      <td>New York</td>\n",
       "      <td>21-Dec-18</td>\n",
       "      <td>$1,399,999</td>\n",
       "      <td>1,056 sqft</td>\n",
       "      <td>10128.0</td>\n",
       "    </tr>\n",
       "    <tr>\n",
       "      <th>2</th>\n",
       "      <td>NaN</td>\n",
       "      <td>NaN</td>\n",
       "      <td>NaN</td>\n",
       "      <td>NaN</td>\n",
       "      <td>NaN</td>\n",
       "      <td>NaN</td>\n",
       "    </tr>\n",
       "    <tr>\n",
       "      <th>3</th>\n",
       "      <td>15 Broad St #2320</td>\n",
       "      <td>New York</td>\n",
       "      <td>21-Dec-18</td>\n",
       "      <td>$2,150,000</td>\n",
       "      <td>1,772 sqft</td>\n",
       "      <td>10005.0</td>\n",
       "    </tr>\n",
       "    <tr>\n",
       "      <th>4</th>\n",
       "      <td>NaN</td>\n",
       "      <td>NaN</td>\n",
       "      <td>NaN</td>\n",
       "      <td>NaN</td>\n",
       "      <td>NaN</td>\n",
       "      <td>NaN</td>\n",
       "    </tr>\n",
       "    <tr>\n",
       "      <th>5</th>\n",
       "      <td>510 W 110th St #12D</td>\n",
       "      <td>New York</td>\n",
       "      <td>21-Dec-18</td>\n",
       "      <td>$660,000</td>\n",
       "      <td>616 sqft</td>\n",
       "      <td>10025.0</td>\n",
       "    </tr>\n",
       "    <tr>\n",
       "      <th>6</th>\n",
       "      <td>NaN</td>\n",
       "      <td>NaN</td>\n",
       "      <td>NaN</td>\n",
       "      <td>NaN</td>\n",
       "      <td>NaN</td>\n",
       "      <td>NaN</td>\n",
       "    </tr>\n",
       "    <tr>\n",
       "      <th>7</th>\n",
       "      <td>405 W 50th St</td>\n",
       "      <td>New York</td>\n",
       "      <td>21-Dec-18</td>\n",
       "      <td>Contact For Estimate</td>\n",
       "      <td>9,775 sqft</td>\n",
       "      <td>10019.0</td>\n",
       "    </tr>\n",
       "    <tr>\n",
       "      <th>8</th>\n",
       "      <td>NaN</td>\n",
       "      <td>NaN</td>\n",
       "      <td>NaN</td>\n",
       "      <td>NaN</td>\n",
       "      <td>NaN</td>\n",
       "      <td>NaN</td>\n",
       "    </tr>\n",
       "    <tr>\n",
       "      <th>9</th>\n",
       "      <td>407 W 50th St</td>\n",
       "      <td>New York</td>\n",
       "      <td>21-Dec-18</td>\n",
       "      <td>Contact For Estimate</td>\n",
       "      <td>9,775 sqft</td>\n",
       "      <td>10019.0</td>\n",
       "    </tr>\n",
       "  </tbody>\n",
       "</table>\n",
       "</div>"
      ],
      "text/plain": [
       "               address      city   soldDate             soldPrice        sqft  \\\n",
       "0                  NaN       NaN        NaN                   NaN         NaN   \n",
       "1   245 E 93rd St #26C  New York  21-Dec-18           $1,399,999   1,056 sqft   \n",
       "2                  NaN       NaN        NaN                   NaN         NaN   \n",
       "3    15 Broad St #2320  New York  21-Dec-18           $2,150,000   1,772 sqft   \n",
       "4                  NaN       NaN        NaN                   NaN         NaN   \n",
       "5  510 W 110th St #12D  New York  21-Dec-18             $660,000     616 sqft   \n",
       "6                  NaN       NaN        NaN                   NaN         NaN   \n",
       "7        405 W 50th St  New York  21-Dec-18  Contact For Estimate  9,775 sqft   \n",
       "8                  NaN       NaN        NaN                   NaN         NaN   \n",
       "9        407 W 50th St  New York  21-Dec-18  Contact For Estimate  9,775 sqft   \n",
       "\n",
       "   zipCode  \n",
       "0      NaN  \n",
       "1  10128.0  \n",
       "2      NaN  \n",
       "3  10005.0  \n",
       "4      NaN  \n",
       "5  10025.0  \n",
       "6      NaN  \n",
       "7  10019.0  \n",
       "8      NaN  \n",
       "9  10019.0  "
      ]
     },
     "execution_count": 25,
     "metadata": {},
     "output_type": "execute_result"
    }
   ],
   "source": [
    "trulia.head(10)"
   ]
  },
  {
   "cell_type": "markdown",
   "metadata": {},
   "source": [
    "Fixing DataFrame structure:"
   ]
  },
  {
   "cell_type": "code",
   "execution_count": 26,
   "metadata": {},
   "outputs": [],
   "source": [
    "trulia = trulia.dropna(axis=0, how='all')"
   ]
  },
  {
   "cell_type": "code",
   "execution_count": 27,
   "metadata": {},
   "outputs": [],
   "source": [
    "trulia = trulia.reset_index()"
   ]
  },
  {
   "cell_type": "code",
   "execution_count": 28,
   "metadata": {},
   "outputs": [],
   "source": [
    "trulia = trulia.drop('index',1)"
   ]
  },
  {
   "cell_type": "code",
   "execution_count": 29,
   "metadata": {},
   "outputs": [
    {
     "data": {
      "text/html": [
       "<div>\n",
       "<style scoped>\n",
       "    .dataframe tbody tr th:only-of-type {\n",
       "        vertical-align: middle;\n",
       "    }\n",
       "\n",
       "    .dataframe tbody tr th {\n",
       "        vertical-align: top;\n",
       "    }\n",
       "\n",
       "    .dataframe thead th {\n",
       "        text-align: right;\n",
       "    }\n",
       "</style>\n",
       "<table border=\"1\" class=\"dataframe\">\n",
       "  <thead>\n",
       "    <tr style=\"text-align: right;\">\n",
       "      <th></th>\n",
       "      <th>address</th>\n",
       "      <th>city</th>\n",
       "      <th>soldDate</th>\n",
       "      <th>soldPrice</th>\n",
       "      <th>sqft</th>\n",
       "      <th>zipCode</th>\n",
       "    </tr>\n",
       "  </thead>\n",
       "  <tbody>\n",
       "    <tr>\n",
       "      <th>0</th>\n",
       "      <td>245 E 93rd St #26C</td>\n",
       "      <td>New York</td>\n",
       "      <td>21-Dec-18</td>\n",
       "      <td>$1,399,999</td>\n",
       "      <td>1,056 sqft</td>\n",
       "      <td>10128.0</td>\n",
       "    </tr>\n",
       "    <tr>\n",
       "      <th>1</th>\n",
       "      <td>15 Broad St #2320</td>\n",
       "      <td>New York</td>\n",
       "      <td>21-Dec-18</td>\n",
       "      <td>$2,150,000</td>\n",
       "      <td>1,772 sqft</td>\n",
       "      <td>10005.0</td>\n",
       "    </tr>\n",
       "    <tr>\n",
       "      <th>2</th>\n",
       "      <td>510 W 110th St #12D</td>\n",
       "      <td>New York</td>\n",
       "      <td>21-Dec-18</td>\n",
       "      <td>$660,000</td>\n",
       "      <td>616 sqft</td>\n",
       "      <td>10025.0</td>\n",
       "    </tr>\n",
       "    <tr>\n",
       "      <th>3</th>\n",
       "      <td>405 W 50th St</td>\n",
       "      <td>New York</td>\n",
       "      <td>21-Dec-18</td>\n",
       "      <td>Contact For Estimate</td>\n",
       "      <td>9,775 sqft</td>\n",
       "      <td>10019.0</td>\n",
       "    </tr>\n",
       "    <tr>\n",
       "      <th>4</th>\n",
       "      <td>407 W 50th St</td>\n",
       "      <td>New York</td>\n",
       "      <td>21-Dec-18</td>\n",
       "      <td>Contact For Estimate</td>\n",
       "      <td>9,775 sqft</td>\n",
       "      <td>10019.0</td>\n",
       "    </tr>\n",
       "  </tbody>\n",
       "</table>\n",
       "</div>"
      ],
      "text/plain": [
       "               address      city   soldDate             soldPrice        sqft  \\\n",
       "0   245 E 93rd St #26C  New York  21-Dec-18           $1,399,999   1,056 sqft   \n",
       "1    15 Broad St #2320  New York  21-Dec-18           $2,150,000   1,772 sqft   \n",
       "2  510 W 110th St #12D  New York  21-Dec-18             $660,000     616 sqft   \n",
       "3        405 W 50th St  New York  21-Dec-18  Contact For Estimate  9,775 sqft   \n",
       "4        407 W 50th St  New York  21-Dec-18  Contact For Estimate  9,775 sqft   \n",
       "\n",
       "   zipCode  \n",
       "0  10128.0  \n",
       "1  10005.0  \n",
       "2  10025.0  \n",
       "3  10019.0  \n",
       "4  10019.0  "
      ]
     },
     "execution_count": 29,
     "metadata": {},
     "output_type": "execute_result"
    }
   ],
   "source": [
    "trulia.head()"
   ]
  },
  {
   "cell_type": "markdown",
   "metadata": {},
   "source": [
    "Fixing 'zipCode':"
   ]
  },
  {
   "cell_type": "code",
   "execution_count": 30,
   "metadata": {},
   "outputs": [],
   "source": [
    "trulia = trulia.astype({'zipCode':int})"
   ]
  },
  {
   "cell_type": "code",
   "execution_count": 31,
   "metadata": {},
   "outputs": [],
   "source": [
    "trulia = trulia.astype({'zipCode':str})"
   ]
  },
  {
   "cell_type": "markdown",
   "metadata": {},
   "source": [
    "Fixing 'sqft':"
   ]
  },
  {
   "cell_type": "code",
   "execution_count": 32,
   "metadata": {},
   "outputs": [],
   "source": [
    "trulia.sqft = trulia.sqft.str.strip(' sqft')"
   ]
  },
  {
   "cell_type": "code",
   "execution_count": 33,
   "metadata": {},
   "outputs": [],
   "source": [
    "trulia.sqft = trulia.sqft.str.replace(',','')"
   ]
  },
  {
   "cell_type": "code",
   "execution_count": 34,
   "metadata": {},
   "outputs": [],
   "source": [
    "trulia = trulia.astype({'sqft': int})"
   ]
  },
  {
   "cell_type": "markdown",
   "metadata": {},
   "source": [
    "Fixing 'soldPrice':"
   ]
  },
  {
   "cell_type": "code",
   "execution_count": 35,
   "metadata": {},
   "outputs": [],
   "source": [
    "trulia.soldPrice = trulia.soldPrice.str.replace(',','')"
   ]
  },
  {
   "cell_type": "code",
   "execution_count": 36,
   "metadata": {},
   "outputs": [],
   "source": [
    "trulia.soldPrice = trulia.soldPrice.str.strip('$')"
   ]
  },
  {
   "cell_type": "code",
   "execution_count": 37,
   "metadata": {},
   "outputs": [
    {
     "name": "stderr",
     "output_type": "stream",
     "text": [
      "C:\\Users\\sabbi\\Anaconda3\\lib\\site-packages\\pandas\\core\\indexing.py:189: SettingWithCopyWarning: \n",
      "A value is trying to be set on a copy of a slice from a DataFrame\n",
      "\n",
      "See the caveats in the documentation: http://pandas.pydata.org/pandas-docs/stable/indexing.html#indexing-view-versus-copy\n",
      "  self._setitem_with_indexer(indexer, value)\n"
     ]
    }
   ],
   "source": [
    "trulia.soldPrice.loc[trulia['soldPrice'] == 'Contact For Estimate'] = np.nan"
   ]
  },
  {
   "cell_type": "code",
   "execution_count": 38,
   "metadata": {},
   "outputs": [],
   "source": [
    "trulia = trulia.astype({'soldPrice': float})"
   ]
  },
  {
   "cell_type": "markdown",
   "metadata": {},
   "source": [
    "Adding 'borough':"
   ]
  },
  {
   "cell_type": "code",
   "execution_count": 39,
   "metadata": {},
   "outputs": [],
   "source": [
    "boro_list = ['New York', 'Manhattan', 'Brooklyn','Bronx','Staten Island']\n",
    "borough = pd.Series(['Queens' if trulia.city[i] not in boro_list else trulia.city[i] for i in range(len(trulia.city))])"
   ]
  },
  {
   "cell_type": "code",
   "execution_count": 40,
   "metadata": {},
   "outputs": [],
   "source": [
    "trulia['borough'] = borough"
   ]
  },
  {
   "cell_type": "code",
   "execution_count": 41,
   "metadata": {},
   "outputs": [
    {
     "name": "stderr",
     "output_type": "stream",
     "text": [
      "C:\\Users\\sabbi\\Anaconda3\\lib\\site-packages\\pandas\\core\\indexing.py:189: SettingWithCopyWarning: \n",
      "A value is trying to be set on a copy of a slice from a DataFrame\n",
      "\n",
      "See the caveats in the documentation: http://pandas.pydata.org/pandas-docs/stable/indexing.html#indexing-view-versus-copy\n",
      "  self._setitem_with_indexer(indexer, value)\n"
     ]
    }
   ],
   "source": [
    "trulia.borough.loc[trulia['city'] == 'New York'] = 'Manhattan'"
   ]
  },
  {
   "cell_type": "markdown",
   "metadata": {},
   "source": [
    "Fixing 'city':"
   ]
  },
  {
   "cell_type": "code",
   "execution_count": 42,
   "metadata": {},
   "outputs": [],
   "source": [
    "trulia.city = trulia.city.str.replace('Manhattan', 'New York')"
   ]
  },
  {
   "cell_type": "markdown",
   "metadata": {},
   "source": [
    "EXPORT:"
   ]
  },
  {
   "cell_type": "code",
   "execution_count": 22,
   "metadata": {},
   "outputs": [],
   "source": [
    "trulia.to_csv('trulia_complete.csv')"
   ]
  },
  {
   "cell_type": "markdown",
   "metadata": {},
   "source": [
    "CHECK"
   ]
  },
  {
   "cell_type": "code",
   "execution_count": 43,
   "metadata": {
    "scrolled": false
   },
   "outputs": [
    {
     "data": {
      "text/html": [
       "<div>\n",
       "<style scoped>\n",
       "    .dataframe tbody tr th:only-of-type {\n",
       "        vertical-align: middle;\n",
       "    }\n",
       "\n",
       "    .dataframe tbody tr th {\n",
       "        vertical-align: top;\n",
       "    }\n",
       "\n",
       "    .dataframe thead th {\n",
       "        text-align: right;\n",
       "    }\n",
       "</style>\n",
       "<table border=\"1\" class=\"dataframe\">\n",
       "  <thead>\n",
       "    <tr style=\"text-align: right;\">\n",
       "      <th></th>\n",
       "      <th>address</th>\n",
       "      <th>city</th>\n",
       "      <th>soldDate</th>\n",
       "      <th>soldPrice</th>\n",
       "      <th>sqft</th>\n",
       "      <th>zipCode</th>\n",
       "      <th>borough</th>\n",
       "    </tr>\n",
       "  </thead>\n",
       "  <tbody>\n",
       "    <tr>\n",
       "      <th>0</th>\n",
       "      <td>245 E 93rd St #26C</td>\n",
       "      <td>New York</td>\n",
       "      <td>21-Dec-18</td>\n",
       "      <td>1399999.0</td>\n",
       "      <td>1056</td>\n",
       "      <td>10128</td>\n",
       "      <td>Manhattan</td>\n",
       "    </tr>\n",
       "    <tr>\n",
       "      <th>1</th>\n",
       "      <td>15 Broad St #2320</td>\n",
       "      <td>New York</td>\n",
       "      <td>21-Dec-18</td>\n",
       "      <td>2150000.0</td>\n",
       "      <td>1772</td>\n",
       "      <td>10005</td>\n",
       "      <td>Manhattan</td>\n",
       "    </tr>\n",
       "    <tr>\n",
       "      <th>2</th>\n",
       "      <td>510 W 110th St #12D</td>\n",
       "      <td>New York</td>\n",
       "      <td>21-Dec-18</td>\n",
       "      <td>660000.0</td>\n",
       "      <td>616</td>\n",
       "      <td>10025</td>\n",
       "      <td>Manhattan</td>\n",
       "    </tr>\n",
       "    <tr>\n",
       "      <th>3</th>\n",
       "      <td>405 W 50th St</td>\n",
       "      <td>New York</td>\n",
       "      <td>21-Dec-18</td>\n",
       "      <td>NaN</td>\n",
       "      <td>9775</td>\n",
       "      <td>10019</td>\n",
       "      <td>Manhattan</td>\n",
       "    </tr>\n",
       "    <tr>\n",
       "      <th>4</th>\n",
       "      <td>407 W 50th St</td>\n",
       "      <td>New York</td>\n",
       "      <td>21-Dec-18</td>\n",
       "      <td>NaN</td>\n",
       "      <td>9775</td>\n",
       "      <td>10019</td>\n",
       "      <td>Manhattan</td>\n",
       "    </tr>\n",
       "  </tbody>\n",
       "</table>\n",
       "</div>"
      ],
      "text/plain": [
       "               address      city   soldDate  soldPrice  sqft zipCode  \\\n",
       "0   245 E 93rd St #26C  New York  21-Dec-18  1399999.0  1056   10128   \n",
       "1    15 Broad St #2320  New York  21-Dec-18  2150000.0  1772   10005   \n",
       "2  510 W 110th St #12D  New York  21-Dec-18   660000.0   616   10025   \n",
       "3        405 W 50th St  New York  21-Dec-18        NaN  9775   10019   \n",
       "4        407 W 50th St  New York  21-Dec-18        NaN  9775   10019   \n",
       "\n",
       "     borough  \n",
       "0  Manhattan  \n",
       "1  Manhattan  \n",
       "2  Manhattan  \n",
       "3  Manhattan  \n",
       "4  Manhattan  "
      ]
     },
     "execution_count": 43,
     "metadata": {},
     "output_type": "execute_result"
    }
   ],
   "source": [
    "trulia.head()"
   ]
  },
  {
   "cell_type": "code",
   "execution_count": 44,
   "metadata": {},
   "outputs": [
    {
     "data": {
      "text/plain": [
       "str"
      ]
     },
     "execution_count": 44,
     "metadata": {},
     "output_type": "execute_result"
    }
   ],
   "source": [
    "type(trulia.zipCode[10])"
   ]
  }
 ],
 "metadata": {
  "kernelspec": {
   "display_name": "Python 3",
   "language": "python",
   "name": "python3"
  },
  "language_info": {
   "codemirror_mode": {
    "name": "ipython",
    "version": 3
   },
   "file_extension": ".py",
   "mimetype": "text/x-python",
   "name": "python",
   "nbconvert_exporter": "python",
   "pygments_lexer": "ipython3",
   "version": "3.6.5"
  }
 },
 "nbformat": 4,
 "nbformat_minor": 2
}
