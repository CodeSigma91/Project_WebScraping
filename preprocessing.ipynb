{
 "cells": [
  {
   "cell_type": "markdown",
   "metadata": {},
   "source": [
    "## Web Scraping (www.trulia.com): Processing the Data\n",
    "##### by Sabbir Mohammed"
   ]
  },
  {
   "cell_type": "markdown",
   "metadata": {},
   "source": [
    "Initializing packages: "
   ]
  },
  {
   "cell_type": "code",
   "execution_count": 1,
   "metadata": {},
   "outputs": [],
   "source": [
    "import pandas as pd\n",
    "import numpy as np\n",
    "from matplotlib import pyplot as plt\n",
    "plt.style.use('ggplot')"
   ]
  },
  {
   "cell_type": "markdown",
   "metadata": {},
   "source": [
    "Loading data set:"
   ]
  },
  {
   "cell_type": "code",
   "execution_count": 2,
   "metadata": {},
   "outputs": [],
   "source": [
    "trulia = pd.read_csv('./data/nyc_trulia_complete_lite.csv')"
   ]
  },
  {
   "cell_type": "code",
   "execution_count": 3,
   "metadata": {
    "scrolled": false
   },
   "outputs": [
    {
     "data": {
      "text/html": [
       "<div>\n",
       "<style scoped>\n",
       "    .dataframe tbody tr th:only-of-type {\n",
       "        vertical-align: middle;\n",
       "    }\n",
       "\n",
       "    .dataframe tbody tr th {\n",
       "        vertical-align: top;\n",
       "    }\n",
       "\n",
       "    .dataframe thead th {\n",
       "        text-align: right;\n",
       "    }\n",
       "</style>\n",
       "<table border=\"1\" class=\"dataframe\">\n",
       "  <thead>\n",
       "    <tr style=\"text-align: right;\">\n",
       "      <th></th>\n",
       "      <th>address</th>\n",
       "      <th>city</th>\n",
       "      <th>soldDate</th>\n",
       "      <th>soldPrice</th>\n",
       "      <th>sqft</th>\n",
       "      <th>zipCode</th>\n",
       "    </tr>\n",
       "  </thead>\n",
       "  <tbody>\n",
       "    <tr>\n",
       "      <th>0</th>\n",
       "      <td>NaN</td>\n",
       "      <td>NaN</td>\n",
       "      <td>NaN</td>\n",
       "      <td>NaN</td>\n",
       "      <td>NaN</td>\n",
       "      <td>NaN</td>\n",
       "    </tr>\n",
       "    <tr>\n",
       "      <th>1</th>\n",
       "      <td>245 E 93rd St #26C</td>\n",
       "      <td>New York</td>\n",
       "      <td>21-Dec-18</td>\n",
       "      <td>$1,399,999</td>\n",
       "      <td>1,056 sqft</td>\n",
       "      <td>10128.0</td>\n",
       "    </tr>\n",
       "    <tr>\n",
       "      <th>2</th>\n",
       "      <td>NaN</td>\n",
       "      <td>NaN</td>\n",
       "      <td>NaN</td>\n",
       "      <td>NaN</td>\n",
       "      <td>NaN</td>\n",
       "      <td>NaN</td>\n",
       "    </tr>\n",
       "    <tr>\n",
       "      <th>3</th>\n",
       "      <td>15 Broad St #2320</td>\n",
       "      <td>New York</td>\n",
       "      <td>21-Dec-18</td>\n",
       "      <td>$2,150,000</td>\n",
       "      <td>1,772 sqft</td>\n",
       "      <td>10005.0</td>\n",
       "    </tr>\n",
       "    <tr>\n",
       "      <th>4</th>\n",
       "      <td>NaN</td>\n",
       "      <td>NaN</td>\n",
       "      <td>NaN</td>\n",
       "      <td>NaN</td>\n",
       "      <td>NaN</td>\n",
       "      <td>NaN</td>\n",
       "    </tr>\n",
       "    <tr>\n",
       "      <th>5</th>\n",
       "      <td>510 W 110th St #12D</td>\n",
       "      <td>New York</td>\n",
       "      <td>21-Dec-18</td>\n",
       "      <td>$660,000</td>\n",
       "      <td>616 sqft</td>\n",
       "      <td>10025.0</td>\n",
       "    </tr>\n",
       "    <tr>\n",
       "      <th>6</th>\n",
       "      <td>NaN</td>\n",
       "      <td>NaN</td>\n",
       "      <td>NaN</td>\n",
       "      <td>NaN</td>\n",
       "      <td>NaN</td>\n",
       "      <td>NaN</td>\n",
       "    </tr>\n",
       "    <tr>\n",
       "      <th>7</th>\n",
       "      <td>405 W 50th St</td>\n",
       "      <td>New York</td>\n",
       "      <td>21-Dec-18</td>\n",
       "      <td>Contact For Estimate</td>\n",
       "      <td>9,775 sqft</td>\n",
       "      <td>10019.0</td>\n",
       "    </tr>\n",
       "    <tr>\n",
       "      <th>8</th>\n",
       "      <td>NaN</td>\n",
       "      <td>NaN</td>\n",
       "      <td>NaN</td>\n",
       "      <td>NaN</td>\n",
       "      <td>NaN</td>\n",
       "      <td>NaN</td>\n",
       "    </tr>\n",
       "    <tr>\n",
       "      <th>9</th>\n",
       "      <td>407 W 50th St</td>\n",
       "      <td>New York</td>\n",
       "      <td>21-Dec-18</td>\n",
       "      <td>Contact For Estimate</td>\n",
       "      <td>9,775 sqft</td>\n",
       "      <td>10019.0</td>\n",
       "    </tr>\n",
       "  </tbody>\n",
       "</table>\n",
       "</div>"
      ],
      "text/plain": [
       "               address      city   soldDate             soldPrice        sqft  \\\n",
       "0                  NaN       NaN        NaN                   NaN         NaN   \n",
       "1   245 E 93rd St #26C  New York  21-Dec-18           $1,399,999   1,056 sqft   \n",
       "2                  NaN       NaN        NaN                   NaN         NaN   \n",
       "3    15 Broad St #2320  New York  21-Dec-18           $2,150,000   1,772 sqft   \n",
       "4                  NaN       NaN        NaN                   NaN         NaN   \n",
       "5  510 W 110th St #12D  New York  21-Dec-18             $660,000     616 sqft   \n",
       "6                  NaN       NaN        NaN                   NaN         NaN   \n",
       "7        405 W 50th St  New York  21-Dec-18  Contact For Estimate  9,775 sqft   \n",
       "8                  NaN       NaN        NaN                   NaN         NaN   \n",
       "9        407 W 50th St  New York  21-Dec-18  Contact For Estimate  9,775 sqft   \n",
       "\n",
       "   zipCode  \n",
       "0      NaN  \n",
       "1  10128.0  \n",
       "2      NaN  \n",
       "3  10005.0  \n",
       "4      NaN  \n",
       "5  10025.0  \n",
       "6      NaN  \n",
       "7  10019.0  \n",
       "8      NaN  \n",
       "9  10019.0  "
      ]
     },
     "execution_count": 3,
     "metadata": {},
     "output_type": "execute_result"
    }
   ],
   "source": [
    "trulia.head(10)"
   ]
  },
  {
   "cell_type": "markdown",
   "metadata": {},
   "source": [
    "Fixing DataFrame structure:"
   ]
  },
  {
   "cell_type": "code",
   "execution_count": 4,
   "metadata": {},
   "outputs": [],
   "source": [
    "trulia = trulia.dropna(axis=0, how='all')"
   ]
  },
  {
   "cell_type": "code",
   "execution_count": 5,
   "metadata": {},
   "outputs": [],
   "source": [
    "trulia = trulia.reset_index()"
   ]
  },
  {
   "cell_type": "code",
   "execution_count": 6,
   "metadata": {},
   "outputs": [],
   "source": [
    "trulia = trulia.drop('index',1)"
   ]
  },
  {
   "cell_type": "code",
   "execution_count": 7,
   "metadata": {},
   "outputs": [
    {
     "data": {
      "text/html": [
       "<div>\n",
       "<style scoped>\n",
       "    .dataframe tbody tr th:only-of-type {\n",
       "        vertical-align: middle;\n",
       "    }\n",
       "\n",
       "    .dataframe tbody tr th {\n",
       "        vertical-align: top;\n",
       "    }\n",
       "\n",
       "    .dataframe thead th {\n",
       "        text-align: right;\n",
       "    }\n",
       "</style>\n",
       "<table border=\"1\" class=\"dataframe\">\n",
       "  <thead>\n",
       "    <tr style=\"text-align: right;\">\n",
       "      <th></th>\n",
       "      <th>address</th>\n",
       "      <th>city</th>\n",
       "      <th>soldDate</th>\n",
       "      <th>soldPrice</th>\n",
       "      <th>sqft</th>\n",
       "      <th>zipCode</th>\n",
       "    </tr>\n",
       "  </thead>\n",
       "  <tbody>\n",
       "    <tr>\n",
       "      <th>0</th>\n",
       "      <td>245 E 93rd St #26C</td>\n",
       "      <td>New York</td>\n",
       "      <td>21-Dec-18</td>\n",
       "      <td>$1,399,999</td>\n",
       "      <td>1,056 sqft</td>\n",
       "      <td>10128.0</td>\n",
       "    </tr>\n",
       "    <tr>\n",
       "      <th>1</th>\n",
       "      <td>15 Broad St #2320</td>\n",
       "      <td>New York</td>\n",
       "      <td>21-Dec-18</td>\n",
       "      <td>$2,150,000</td>\n",
       "      <td>1,772 sqft</td>\n",
       "      <td>10005.0</td>\n",
       "    </tr>\n",
       "    <tr>\n",
       "      <th>2</th>\n",
       "      <td>510 W 110th St #12D</td>\n",
       "      <td>New York</td>\n",
       "      <td>21-Dec-18</td>\n",
       "      <td>$660,000</td>\n",
       "      <td>616 sqft</td>\n",
       "      <td>10025.0</td>\n",
       "    </tr>\n",
       "    <tr>\n",
       "      <th>3</th>\n",
       "      <td>405 W 50th St</td>\n",
       "      <td>New York</td>\n",
       "      <td>21-Dec-18</td>\n",
       "      <td>Contact For Estimate</td>\n",
       "      <td>9,775 sqft</td>\n",
       "      <td>10019.0</td>\n",
       "    </tr>\n",
       "    <tr>\n",
       "      <th>4</th>\n",
       "      <td>407 W 50th St</td>\n",
       "      <td>New York</td>\n",
       "      <td>21-Dec-18</td>\n",
       "      <td>Contact For Estimate</td>\n",
       "      <td>9,775 sqft</td>\n",
       "      <td>10019.0</td>\n",
       "    </tr>\n",
       "  </tbody>\n",
       "</table>\n",
       "</div>"
      ],
      "text/plain": [
       "               address      city   soldDate             soldPrice        sqft  \\\n",
       "0   245 E 93rd St #26C  New York  21-Dec-18           $1,399,999   1,056 sqft   \n",
       "1    15 Broad St #2320  New York  21-Dec-18           $2,150,000   1,772 sqft   \n",
       "2  510 W 110th St #12D  New York  21-Dec-18             $660,000     616 sqft   \n",
       "3        405 W 50th St  New York  21-Dec-18  Contact For Estimate  9,775 sqft   \n",
       "4        407 W 50th St  New York  21-Dec-18  Contact For Estimate  9,775 sqft   \n",
       "\n",
       "   zipCode  \n",
       "0  10128.0  \n",
       "1  10005.0  \n",
       "2  10025.0  \n",
       "3  10019.0  \n",
       "4  10019.0  "
      ]
     },
     "execution_count": 7,
     "metadata": {},
     "output_type": "execute_result"
    }
   ],
   "source": [
    "trulia.head()"
   ]
  },
  {
   "cell_type": "markdown",
   "metadata": {},
   "source": [
    "Fixing 'zipCode':"
   ]
  },
  {
   "cell_type": "code",
   "execution_count": 8,
   "metadata": {},
   "outputs": [],
   "source": [
    "trulia = trulia.astype({'zipCode':int})"
   ]
  },
  {
   "cell_type": "code",
   "execution_count": 9,
   "metadata": {},
   "outputs": [],
   "source": [
    "trulia = trulia.astype({'zipCode':str})"
   ]
  },
  {
   "cell_type": "markdown",
   "metadata": {},
   "source": [
    "Fixing 'sqft':"
   ]
  },
  {
   "cell_type": "code",
   "execution_count": 10,
   "metadata": {},
   "outputs": [],
   "source": [
    "trulia.sqft = trulia.sqft.str.strip(' sqft')"
   ]
  },
  {
   "cell_type": "code",
   "execution_count": 11,
   "metadata": {},
   "outputs": [],
   "source": [
    "trulia.sqft = trulia.sqft.str.replace(',','')"
   ]
  },
  {
   "cell_type": "code",
   "execution_count": 12,
   "metadata": {},
   "outputs": [],
   "source": [
    "trulia = trulia.astype({'sqft': int})"
   ]
  },
  {
   "cell_type": "markdown",
   "metadata": {},
   "source": [
    "Fixing 'soldPrice':"
   ]
  },
  {
   "cell_type": "code",
   "execution_count": 13,
   "metadata": {},
   "outputs": [],
   "source": [
    "trulia.soldPrice = trulia.soldPrice.str.replace(',','')"
   ]
  },
  {
   "cell_type": "code",
   "execution_count": 14,
   "metadata": {},
   "outputs": [],
   "source": [
    "trulia.soldPrice = trulia.soldPrice.str.strip('$')"
   ]
  },
  {
   "cell_type": "code",
   "execution_count": 15,
   "metadata": {},
   "outputs": [
    {
     "name": "stderr",
     "output_type": "stream",
     "text": [
      "C:\\Users\\sabbi\\Anaconda3\\lib\\site-packages\\pandas\\core\\indexing.py:189: SettingWithCopyWarning: \n",
      "A value is trying to be set on a copy of a slice from a DataFrame\n",
      "\n",
      "See the caveats in the documentation: http://pandas.pydata.org/pandas-docs/stable/indexing.html#indexing-view-versus-copy\n",
      "  self._setitem_with_indexer(indexer, value)\n"
     ]
    }
   ],
   "source": [
    "trulia.soldPrice.loc[trulia['soldPrice'] == 'Contact For Estimate'] = np.nan"
   ]
  },
  {
   "cell_type": "code",
   "execution_count": 16,
   "metadata": {},
   "outputs": [],
   "source": [
    "trulia = trulia.astype({'soldPrice': float})"
   ]
  },
  {
   "cell_type": "markdown",
   "metadata": {},
   "source": [
    "Adding 'borough':"
   ]
  },
  {
   "cell_type": "code",
   "execution_count": 17,
   "metadata": {},
   "outputs": [],
   "source": [
    "boro_list = ['New York', 'Manhattan', 'Brooklyn','Bronx','Staten Island']\n",
    "borough = pd.Series(['Queens' if trulia.city[i] not in boro_list else trulia.city[i] for i in range(len(trulia.city))])"
   ]
  },
  {
   "cell_type": "code",
   "execution_count": 18,
   "metadata": {},
   "outputs": [],
   "source": [
    "trulia['borough'] = borough"
   ]
  },
  {
   "cell_type": "code",
   "execution_count": 19,
   "metadata": {},
   "outputs": [
    {
     "name": "stderr",
     "output_type": "stream",
     "text": [
      "C:\\Users\\sabbi\\Anaconda3\\lib\\site-packages\\pandas\\core\\indexing.py:189: SettingWithCopyWarning: \n",
      "A value is trying to be set on a copy of a slice from a DataFrame\n",
      "\n",
      "See the caveats in the documentation: http://pandas.pydata.org/pandas-docs/stable/indexing.html#indexing-view-versus-copy\n",
      "  self._setitem_with_indexer(indexer, value)\n"
     ]
    }
   ],
   "source": [
    "trulia.borough.loc[trulia['city'] == 'New York'] = 'Manhattan'"
   ]
  },
  {
   "cell_type": "markdown",
   "metadata": {},
   "source": [
    "Fixing 'city':"
   ]
  },
  {
   "cell_type": "code",
   "execution_count": 20,
   "metadata": {},
   "outputs": [],
   "source": [
    "trulia.city = trulia.city.str.replace('Manhattan', 'New York')"
   ]
  },
  {
   "cell_type": "markdown",
   "metadata": {},
   "source": [
    "EXPORT:"
   ]
  },
  {
   "cell_type": "code",
   "execution_count": 21,
   "metadata": {},
   "outputs": [],
   "source": [
    "trulia.to_csv('./data/trulia_complete.csv')"
   ]
  },
  {
   "cell_type": "markdown",
   "metadata": {},
   "source": [
    "CHECK"
   ]
  },
  {
   "cell_type": "code",
   "execution_count": 22,
   "metadata": {
    "scrolled": false
   },
   "outputs": [
    {
     "data": {
      "text/html": [
       "<div>\n",
       "<style scoped>\n",
       "    .dataframe tbody tr th:only-of-type {\n",
       "        vertical-align: middle;\n",
       "    }\n",
       "\n",
       "    .dataframe tbody tr th {\n",
       "        vertical-align: top;\n",
       "    }\n",
       "\n",
       "    .dataframe thead th {\n",
       "        text-align: right;\n",
       "    }\n",
       "</style>\n",
       "<table border=\"1\" class=\"dataframe\">\n",
       "  <thead>\n",
       "    <tr style=\"text-align: right;\">\n",
       "      <th></th>\n",
       "      <th>address</th>\n",
       "      <th>city</th>\n",
       "      <th>soldDate</th>\n",
       "      <th>soldPrice</th>\n",
       "      <th>sqft</th>\n",
       "      <th>zipCode</th>\n",
       "      <th>borough</th>\n",
       "    </tr>\n",
       "  </thead>\n",
       "  <tbody>\n",
       "    <tr>\n",
       "      <th>11663</th>\n",
       "      <td>81 Celeste Ct</td>\n",
       "      <td>Brooklyn</td>\n",
       "      <td>19-Dec-18</td>\n",
       "      <td>639000.0</td>\n",
       "      <td>990</td>\n",
       "      <td>11229</td>\n",
       "      <td>Brooklyn</td>\n",
       "    </tr>\n",
       "    <tr>\n",
       "      <th>8750</th>\n",
       "      <td>975 Montgomery St</td>\n",
       "      <td>Brooklyn</td>\n",
       "      <td>6-Jun-18</td>\n",
       "      <td>1000000.0</td>\n",
       "      <td>3280</td>\n",
       "      <td>11213</td>\n",
       "      <td>Brooklyn</td>\n",
       "    </tr>\n",
       "    <tr>\n",
       "      <th>1358</th>\n",
       "      <td>95 Saint Marys Ave</td>\n",
       "      <td>Staten Island</td>\n",
       "      <td>14-Sep-18</td>\n",
       "      <td>223080.0</td>\n",
       "      <td>847</td>\n",
       "      <td>10305</td>\n",
       "      <td>Staten Island</td>\n",
       "    </tr>\n",
       "    <tr>\n",
       "      <th>2109</th>\n",
       "      <td>66 Bianca Ct</td>\n",
       "      <td>Staten Island</td>\n",
       "      <td>17-Dec-18</td>\n",
       "      <td>412000.0</td>\n",
       "      <td>1510</td>\n",
       "      <td>10312</td>\n",
       "      <td>Staten Island</td>\n",
       "    </tr>\n",
       "    <tr>\n",
       "      <th>3825</th>\n",
       "      <td>5707 E Hampton Blvd</td>\n",
       "      <td>Flushing</td>\n",
       "      <td>7-Aug-18</td>\n",
       "      <td>995000.0</td>\n",
       "      <td>1240</td>\n",
       "      <td>11364</td>\n",
       "      <td>Queens</td>\n",
       "    </tr>\n",
       "    <tr>\n",
       "      <th>4465</th>\n",
       "      <td>10011 67th Rd #122</td>\n",
       "      <td>Forest Hills</td>\n",
       "      <td>19-Sep-18</td>\n",
       "      <td>296000.0</td>\n",
       "      <td>137120</td>\n",
       "      <td>11375</td>\n",
       "      <td>Queens</td>\n",
       "    </tr>\n",
       "    <tr>\n",
       "      <th>10842</th>\n",
       "      <td>1116 Brooklyn Ave</td>\n",
       "      <td>Brooklyn</td>\n",
       "      <td>26-Oct-18</td>\n",
       "      <td>525000.0</td>\n",
       "      <td>1782</td>\n",
       "      <td>11203</td>\n",
       "      <td>Brooklyn</td>\n",
       "    </tr>\n",
       "    <tr>\n",
       "      <th>9695</th>\n",
       "      <td>17 Dewey Pl</td>\n",
       "      <td>Brooklyn</td>\n",
       "      <td>15-Aug-18</td>\n",
       "      <td>895000.0</td>\n",
       "      <td>1625</td>\n",
       "      <td>11233</td>\n",
       "      <td>Brooklyn</td>\n",
       "    </tr>\n",
       "    <tr>\n",
       "      <th>104</th>\n",
       "      <td>330 E 33rd St #14F</td>\n",
       "      <td>New York</td>\n",
       "      <td>4-Jan-19</td>\n",
       "      <td>585000.0</td>\n",
       "      <td>485</td>\n",
       "      <td>10016</td>\n",
       "      <td>Manhattan</td>\n",
       "    </tr>\n",
       "    <tr>\n",
       "      <th>3679</th>\n",
       "      <td>10505 91st St</td>\n",
       "      <td>Jamaica</td>\n",
       "      <td>26-Jul-18</td>\n",
       "      <td>725000.0</td>\n",
       "      <td>1760</td>\n",
       "      <td>11417</td>\n",
       "      <td>Queens</td>\n",
       "    </tr>\n",
       "  </tbody>\n",
       "</table>\n",
       "</div>"
      ],
      "text/plain": [
       "                   address           city   soldDate  soldPrice    sqft  \\\n",
       "11663        81 Celeste Ct       Brooklyn  19-Dec-18   639000.0     990   \n",
       "8750     975 Montgomery St       Brooklyn   6-Jun-18  1000000.0    3280   \n",
       "1358    95 Saint Marys Ave  Staten Island  14-Sep-18   223080.0     847   \n",
       "2109          66 Bianca Ct  Staten Island  17-Dec-18   412000.0    1510   \n",
       "3825   5707 E Hampton Blvd       Flushing   7-Aug-18   995000.0    1240   \n",
       "4465    10011 67th Rd #122   Forest Hills  19-Sep-18   296000.0  137120   \n",
       "10842    1116 Brooklyn Ave       Brooklyn  26-Oct-18   525000.0    1782   \n",
       "9695           17 Dewey Pl       Brooklyn  15-Aug-18   895000.0    1625   \n",
       "104     330 E 33rd St #14F       New York   4-Jan-19   585000.0     485   \n",
       "3679         10505 91st St        Jamaica  26-Jul-18   725000.0    1760   \n",
       "\n",
       "      zipCode        borough  \n",
       "11663   11229       Brooklyn  \n",
       "8750    11213       Brooklyn  \n",
       "1358    10305  Staten Island  \n",
       "2109    10312  Staten Island  \n",
       "3825    11364         Queens  \n",
       "4465    11375         Queens  \n",
       "10842   11203       Brooklyn  \n",
       "9695    11233       Brooklyn  \n",
       "104     10016      Manhattan  \n",
       "3679    11417         Queens  "
      ]
     },
     "execution_count": 22,
     "metadata": {},
     "output_type": "execute_result"
    }
   ],
   "source": [
    "trulia.sample(10)"
   ]
  },
  {
   "cell_type": "code",
   "execution_count": 23,
   "metadata": {},
   "outputs": [
    {
     "data": {
      "text/plain": [
       "str"
      ]
     },
     "execution_count": 23,
     "metadata": {},
     "output_type": "execute_result"
    }
   ],
   "source": [
    "type(trulia.zipCode[10])"
   ]
  }
 ],
 "metadata": {
  "kernelspec": {
   "display_name": "Python 3",
   "language": "python",
   "name": "python3"
  },
  "language_info": {
   "codemirror_mode": {
    "name": "ipython",
    "version": 3
   },
   "file_extension": ".py",
   "mimetype": "text/x-python",
   "name": "python",
   "nbconvert_exporter": "python",
   "pygments_lexer": "ipython3",
   "version": "3.6.5"
  }
 },
 "nbformat": 4,
 "nbformat_minor": 2
}
