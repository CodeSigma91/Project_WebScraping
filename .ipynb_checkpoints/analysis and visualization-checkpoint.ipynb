{
 "cells": [
  {
   "cell_type": "markdown",
   "metadata": {},
   "source": [
    "## Web Scraping (www.trulia.com): Analysis and Visualization\n",
    "##### by Sabbir Mohammed"
   ]
  },
  {
   "cell_type": "markdown",
   "metadata": {},
   "source": [
    "Initializing Packages:"
   ]
  },
  {
   "cell_type": "code",
   "execution_count": 1,
   "metadata": {},
   "outputs": [],
   "source": [
    "import pandas as pd\n",
    "import numpy as np\n",
    "from matplotlib import pyplot as plt\n",
    "plt.style.use('ggplot')"
   ]
  },
  {
   "cell_type": "markdown",
   "metadata": {},
   "source": [
    "Loading Dataset:"
   ]
  },
  {
   "cell_type": "code",
   "execution_count": 2,
   "metadata": {},
   "outputs": [],
   "source": [
    "trulia = pd.read_csv('trulia_complete.csv')"
   ]
  },
  {
   "cell_type": "code",
   "execution_count": 3,
   "metadata": {},
   "outputs": [],
   "source": [
    "trulia = trulia.drop('Unnamed: 0', 1)"
   ]
  },
  {
   "cell_type": "code",
   "execution_count": 4,
   "metadata": {},
   "outputs": [],
   "source": [
    "trulia = trulia.astype({'zipCode':str})"
   ]
  },
  {
   "cell_type": "code",
   "execution_count": 80,
   "metadata": {},
   "outputs": [],
   "source": [
    "pricepersqft = pd.Series(trulia.soldPrice / trulia.sqft)\n",
    "trulia['PricePerSQFT'] = pricepersqft"
   ]
  },
  {
   "cell_type": "code",
   "execution_count": null,
   "metadata": {},
   "outputs": [],
   "source": [
    "# trulia['soldPrice'] = trulia['soldPrice'].apply(lambda x: \"{:,}\".format(x))"
   ]
  },
  {
   "cell_type": "markdown",
   "metadata": {},
   "source": [
    "### Descriptive Statistics:"
   ]
  },
  {
   "cell_type": "code",
   "execution_count": 81,
   "metadata": {
    "scrolled": false
   },
   "outputs": [
    {
     "data": {
      "text/html": [
       "<div>\n",
       "<style scoped>\n",
       "    .dataframe tbody tr th:only-of-type {\n",
       "        vertical-align: middle;\n",
       "    }\n",
       "\n",
       "    .dataframe tbody tr th {\n",
       "        vertical-align: top;\n",
       "    }\n",
       "\n",
       "    .dataframe thead th {\n",
       "        text-align: right;\n",
       "    }\n",
       "</style>\n",
       "<table border=\"1\" class=\"dataframe\">\n",
       "  <thead>\n",
       "    <tr style=\"text-align: right;\">\n",
       "      <th></th>\n",
       "      <th>address</th>\n",
       "      <th>city</th>\n",
       "      <th>soldDate</th>\n",
       "      <th>soldPrice</th>\n",
       "      <th>sqft</th>\n",
       "      <th>zipCode</th>\n",
       "      <th>borough</th>\n",
       "      <th>PricePerSQFT</th>\n",
       "    </tr>\n",
       "  </thead>\n",
       "  <tbody>\n",
       "    <tr>\n",
       "      <th>0</th>\n",
       "      <td>245 E 93rd St #26C</td>\n",
       "      <td>New York</td>\n",
       "      <td>21-Dec-18</td>\n",
       "      <td>1399999.0</td>\n",
       "      <td>1056</td>\n",
       "      <td>10128</td>\n",
       "      <td>Manhattan</td>\n",
       "      <td>1325.756629</td>\n",
       "    </tr>\n",
       "    <tr>\n",
       "      <th>1</th>\n",
       "      <td>15 Broad St #2320</td>\n",
       "      <td>New York</td>\n",
       "      <td>21-Dec-18</td>\n",
       "      <td>2150000.0</td>\n",
       "      <td>1772</td>\n",
       "      <td>10005</td>\n",
       "      <td>Manhattan</td>\n",
       "      <td>1213.318284</td>\n",
       "    </tr>\n",
       "    <tr>\n",
       "      <th>2</th>\n",
       "      <td>510 W 110th St #12D</td>\n",
       "      <td>New York</td>\n",
       "      <td>21-Dec-18</td>\n",
       "      <td>660000.0</td>\n",
       "      <td>616</td>\n",
       "      <td>10025</td>\n",
       "      <td>Manhattan</td>\n",
       "      <td>1071.428571</td>\n",
       "    </tr>\n",
       "    <tr>\n",
       "      <th>3</th>\n",
       "      <td>405 W 50th St</td>\n",
       "      <td>New York</td>\n",
       "      <td>21-Dec-18</td>\n",
       "      <td>NaN</td>\n",
       "      <td>9775</td>\n",
       "      <td>10019</td>\n",
       "      <td>Manhattan</td>\n",
       "      <td>NaN</td>\n",
       "    </tr>\n",
       "    <tr>\n",
       "      <th>4</th>\n",
       "      <td>407 W 50th St</td>\n",
       "      <td>New York</td>\n",
       "      <td>21-Dec-18</td>\n",
       "      <td>NaN</td>\n",
       "      <td>9775</td>\n",
       "      <td>10019</td>\n",
       "      <td>Manhattan</td>\n",
       "      <td>NaN</td>\n",
       "    </tr>\n",
       "    <tr>\n",
       "      <th>5</th>\n",
       "      <td>155 W 70th St #12E</td>\n",
       "      <td>New York</td>\n",
       "      <td>21-Dec-18</td>\n",
       "      <td>950000.0</td>\n",
       "      <td>1302</td>\n",
       "      <td>10023</td>\n",
       "      <td>Manhattan</td>\n",
       "      <td>729.646697</td>\n",
       "    </tr>\n",
       "    <tr>\n",
       "      <th>6</th>\n",
       "      <td>200 E 66th St #E2006</td>\n",
       "      <td>New York</td>\n",
       "      <td>21-Dec-18</td>\n",
       "      <td>NaN</td>\n",
       "      <td>955</td>\n",
       "      <td>10065</td>\n",
       "      <td>Manhattan</td>\n",
       "      <td>NaN</td>\n",
       "    </tr>\n",
       "    <tr>\n",
       "      <th>7</th>\n",
       "      <td>200 E 24th St #1809</td>\n",
       "      <td>New York</td>\n",
       "      <td>21-Dec-18</td>\n",
       "      <td>650000.0</td>\n",
       "      <td>158337</td>\n",
       "      <td>10010</td>\n",
       "      <td>Manhattan</td>\n",
       "      <td>4.105168</td>\n",
       "    </tr>\n",
       "    <tr>\n",
       "      <th>8</th>\n",
       "      <td>181 E 90th St #26A</td>\n",
       "      <td>New York</td>\n",
       "      <td>21-Dec-18</td>\n",
       "      <td>3200000.0</td>\n",
       "      <td>1948</td>\n",
       "      <td>10128</td>\n",
       "      <td>Manhattan</td>\n",
       "      <td>1642.710472</td>\n",
       "    </tr>\n",
       "    <tr>\n",
       "      <th>9</th>\n",
       "      <td>58 W 129th St #2C</td>\n",
       "      <td>New York</td>\n",
       "      <td>21-Dec-18</td>\n",
       "      <td>494000.0</td>\n",
       "      <td>479</td>\n",
       "      <td>10027</td>\n",
       "      <td>Manhattan</td>\n",
       "      <td>1031.315240</td>\n",
       "    </tr>\n",
       "  </tbody>\n",
       "</table>\n",
       "</div>"
      ],
      "text/plain": [
       "                address      city   soldDate  soldPrice    sqft zipCode  \\\n",
       "0    245 E 93rd St #26C  New York  21-Dec-18  1399999.0    1056   10128   \n",
       "1     15 Broad St #2320  New York  21-Dec-18  2150000.0    1772   10005   \n",
       "2   510 W 110th St #12D  New York  21-Dec-18   660000.0     616   10025   \n",
       "3         405 W 50th St  New York  21-Dec-18        NaN    9775   10019   \n",
       "4         407 W 50th St  New York  21-Dec-18        NaN    9775   10019   \n",
       "5    155 W 70th St #12E  New York  21-Dec-18   950000.0    1302   10023   \n",
       "6  200 E 66th St #E2006  New York  21-Dec-18        NaN     955   10065   \n",
       "7   200 E 24th St #1809  New York  21-Dec-18   650000.0  158337   10010   \n",
       "8    181 E 90th St #26A  New York  21-Dec-18  3200000.0    1948   10128   \n",
       "9     58 W 129th St #2C  New York  21-Dec-18   494000.0     479   10027   \n",
       "\n",
       "     borough  PricePerSQFT  \n",
       "0  Manhattan   1325.756629  \n",
       "1  Manhattan   1213.318284  \n",
       "2  Manhattan   1071.428571  \n",
       "3  Manhattan           NaN  \n",
       "4  Manhattan           NaN  \n",
       "5  Manhattan    729.646697  \n",
       "6  Manhattan           NaN  \n",
       "7  Manhattan      4.105168  \n",
       "8  Manhattan   1642.710472  \n",
       "9  Manhattan   1031.315240  "
      ]
     },
     "execution_count": 81,
     "metadata": {},
     "output_type": "execute_result"
    }
   ],
   "source": [
    "trulia.head(10)"
   ]
  },
  {
   "cell_type": "code",
   "execution_count": 82,
   "metadata": {},
   "outputs": [
    {
     "data": {
      "text/plain": [
       "(13267, 8)"
      ]
     },
     "execution_count": 82,
     "metadata": {},
     "output_type": "execute_result"
    }
   ],
   "source": [
    "trulia.shape"
   ]
  },
  {
   "cell_type": "code",
   "execution_count": 83,
   "metadata": {},
   "outputs": [
    {
     "data": {
      "text/html": [
       "<div>\n",
       "<style scoped>\n",
       "    .dataframe tbody tr th:only-of-type {\n",
       "        vertical-align: middle;\n",
       "    }\n",
       "\n",
       "    .dataframe tbody tr th {\n",
       "        vertical-align: top;\n",
       "    }\n",
       "\n",
       "    .dataframe thead th {\n",
       "        text-align: right;\n",
       "    }\n",
       "</style>\n",
       "<table border=\"1\" class=\"dataframe\">\n",
       "  <thead>\n",
       "    <tr style=\"text-align: right;\">\n",
       "      <th></th>\n",
       "      <th>soldPrice</th>\n",
       "      <th>sqft</th>\n",
       "      <th>PricePerSQFT</th>\n",
       "    </tr>\n",
       "  </thead>\n",
       "  <tbody>\n",
       "    <tr>\n",
       "      <th>count</th>\n",
       "      <td>11315.00</td>\n",
       "      <td>13267.00</td>\n",
       "      <td>11315.00</td>\n",
       "    </tr>\n",
       "    <tr>\n",
       "      <th>mean</th>\n",
       "      <td>880200.73</td>\n",
       "      <td>6032.99</td>\n",
       "      <td>573.92</td>\n",
       "    </tr>\n",
       "    <tr>\n",
       "      <th>std</th>\n",
       "      <td>858014.41</td>\n",
       "      <td>33631.69</td>\n",
       "      <td>765.58</td>\n",
       "    </tr>\n",
       "    <tr>\n",
       "      <th>min</th>\n",
       "      <td>10.00</td>\n",
       "      <td>187.00</td>\n",
       "      <td>0.00</td>\n",
       "    </tr>\n",
       "    <tr>\n",
       "      <th>25%</th>\n",
       "      <td>520000.00</td>\n",
       "      <td>1155.00</td>\n",
       "      <td>325.42</td>\n",
       "    </tr>\n",
       "    <tr>\n",
       "      <th>50%</th>\n",
       "      <td>705000.00</td>\n",
       "      <td>1592.00</td>\n",
       "      <td>451.13</td>\n",
       "    </tr>\n",
       "    <tr>\n",
       "      <th>75%</th>\n",
       "      <td>970000.00</td>\n",
       "      <td>2292.00</td>\n",
       "      <td>661.39</td>\n",
       "    </tr>\n",
       "    <tr>\n",
       "      <th>max</th>\n",
       "      <td>44580000.00</td>\n",
       "      <td>883265.00</td>\n",
       "      <td>68796.30</td>\n",
       "    </tr>\n",
       "  </tbody>\n",
       "</table>\n",
       "</div>"
      ],
      "text/plain": [
       "         soldPrice       sqft  PricePerSQFT\n",
       "count     11315.00   13267.00      11315.00\n",
       "mean     880200.73    6032.99        573.92\n",
       "std      858014.41   33631.69        765.58\n",
       "min          10.00     187.00          0.00\n",
       "25%      520000.00    1155.00        325.42\n",
       "50%      705000.00    1592.00        451.13\n",
       "75%      970000.00    2292.00        661.39\n",
       "max    44580000.00  883265.00      68796.30"
      ]
     },
     "execution_count": 83,
     "metadata": {},
     "output_type": "execute_result"
    }
   ],
   "source": [
    "round(trulia.describe(), 2)"
   ]
  },
  {
   "cell_type": "markdown",
   "metadata": {},
   "source": [
    "Checking specific values:"
   ]
  },
  {
   "cell_type": "code",
   "execution_count": 84,
   "metadata": {},
   "outputs": [
    {
     "data": {
      "text/html": [
       "<div>\n",
       "<style scoped>\n",
       "    .dataframe tbody tr th:only-of-type {\n",
       "        vertical-align: middle;\n",
       "    }\n",
       "\n",
       "    .dataframe tbody tr th {\n",
       "        vertical-align: top;\n",
       "    }\n",
       "\n",
       "    .dataframe thead th {\n",
       "        text-align: right;\n",
       "    }\n",
       "</style>\n",
       "<table border=\"1\" class=\"dataframe\">\n",
       "  <thead>\n",
       "    <tr style=\"text-align: right;\">\n",
       "      <th></th>\n",
       "      <th>address</th>\n",
       "      <th>city</th>\n",
       "      <th>soldDate</th>\n",
       "      <th>soldPrice</th>\n",
       "      <th>sqft</th>\n",
       "      <th>zipCode</th>\n",
       "      <th>borough</th>\n",
       "      <th>PricePerSQFT</th>\n",
       "    </tr>\n",
       "  </thead>\n",
       "  <tbody>\n",
       "    <tr>\n",
       "      <th>8830</th>\n",
       "      <td>270 Jay St #15J</td>\n",
       "      <td>Brooklyn</td>\n",
       "      <td>12-Jun-18</td>\n",
       "      <td>357000.0</td>\n",
       "      <td>883265</td>\n",
       "      <td>11201</td>\n",
       "      <td>Brooklyn</td>\n",
       "      <td>0.404182</td>\n",
       "    </tr>\n",
       "    <tr>\n",
       "      <th>11401</th>\n",
       "      <td>175 Adams St #14F</td>\n",
       "      <td>Brooklyn</td>\n",
       "      <td>4-Dec-18</td>\n",
       "      <td>585000.0</td>\n",
       "      <td>883265</td>\n",
       "      <td>11201</td>\n",
       "      <td>Brooklyn</td>\n",
       "      <td>0.662315</td>\n",
       "    </tr>\n",
       "  </tbody>\n",
       "</table>\n",
       "</div>"
      ],
      "text/plain": [
       "                 address      city   soldDate  soldPrice    sqft zipCode  \\\n",
       "8830     270 Jay St #15J  Brooklyn  12-Jun-18   357000.0  883265   11201   \n",
       "11401  175 Adams St #14F  Brooklyn   4-Dec-18   585000.0  883265   11201   \n",
       "\n",
       "        borough  PricePerSQFT  \n",
       "8830   Brooklyn      0.404182  \n",
       "11401  Brooklyn      0.662315  "
      ]
     },
     "execution_count": 84,
     "metadata": {},
     "output_type": "execute_result"
    }
   ],
   "source": [
    "trulia.loc[trulia.sqft == 883265.00]"
   ]
  },
  {
   "cell_type": "markdown",
   "metadata": {},
   "source": [
    "### Handling missing values:"
   ]
  },
  {
   "cell_type": "code",
   "execution_count": 85,
   "metadata": {},
   "outputs": [
    {
     "data": {
      "text/plain": [
       "address            0\n",
       "city               0\n",
       "soldDate           0\n",
       "soldPrice       1952\n",
       "sqft               0\n",
       "zipCode            0\n",
       "borough            0\n",
       "PricePerSQFT    1952\n",
       "dtype: int64"
      ]
     },
     "execution_count": 85,
     "metadata": {},
     "output_type": "execute_result"
    }
   ],
   "source": [
    "np.sum(trulia.isnull())"
   ]
  },
  {
   "cell_type": "code",
   "execution_count": 86,
   "metadata": {},
   "outputs": [],
   "source": [
    "trulia_copy1 = trulia.loc[trulia.soldPrice.isnull() == False]"
   ]
  },
  {
   "cell_type": "code",
   "execution_count": 87,
   "metadata": {},
   "outputs": [
    {
     "data": {
      "text/plain": [
       "(11315, 8)"
      ]
     },
     "execution_count": 87,
     "metadata": {},
     "output_type": "execute_result"
    }
   ],
   "source": [
    "trulia_copy1.shape"
   ]
  },
  {
   "cell_type": "markdown",
   "metadata": {},
   "source": [
    "### Analysis by Borough"
   ]
  },
  {
   "cell_type": "code",
   "execution_count": 138,
   "metadata": {},
   "outputs": [
    {
     "data": {
      "text/html": [
       "<div>\n",
       "<style scoped>\n",
       "    .dataframe tbody tr th:only-of-type {\n",
       "        vertical-align: middle;\n",
       "    }\n",
       "\n",
       "    .dataframe tbody tr th {\n",
       "        vertical-align: top;\n",
       "    }\n",
       "\n",
       "    .dataframe thead tr th {\n",
       "        text-align: left;\n",
       "    }\n",
       "\n",
       "    .dataframe thead tr:last-of-type th {\n",
       "        text-align: right;\n",
       "    }\n",
       "</style>\n",
       "<table border=\"1\" class=\"dataframe\">\n",
       "  <thead>\n",
       "    <tr>\n",
       "      <th></th>\n",
       "      <th colspan=\"3\" halign=\"left\">soldPrice</th>\n",
       "      <th colspan=\"3\" halign=\"left\">sqft</th>\n",
       "      <th colspan=\"3\" halign=\"left\">PricePerSQFT</th>\n",
       "    </tr>\n",
       "    <tr>\n",
       "      <th></th>\n",
       "      <th>count</th>\n",
       "      <th>mean</th>\n",
       "      <th>std</th>\n",
       "      <th>count</th>\n",
       "      <th>mean</th>\n",
       "      <th>std</th>\n",
       "      <th>count</th>\n",
       "      <th>mean</th>\n",
       "      <th>std</th>\n",
       "    </tr>\n",
       "    <tr>\n",
       "      <th>borough</th>\n",
       "      <th></th>\n",
       "      <th></th>\n",
       "      <th></th>\n",
       "      <th></th>\n",
       "      <th></th>\n",
       "      <th></th>\n",
       "      <th></th>\n",
       "      <th></th>\n",
       "      <th></th>\n",
       "    </tr>\n",
       "  </thead>\n",
       "  <tbody>\n",
       "    <tr>\n",
       "      <th>Bronx</th>\n",
       "      <td>1273</td>\n",
       "      <td>530538.121</td>\n",
       "      <td>265929.544</td>\n",
       "      <td>1273</td>\n",
       "      <td>2383.314</td>\n",
       "      <td>6412.720</td>\n",
       "      <td>1273</td>\n",
       "      <td>292.779</td>\n",
       "      <td>113.847</td>\n",
       "    </tr>\n",
       "    <tr>\n",
       "      <th>Brooklyn</th>\n",
       "      <td>3047</td>\n",
       "      <td>1064731.482</td>\n",
       "      <td>735927.796</td>\n",
       "      <td>3047</td>\n",
       "      <td>7136.969</td>\n",
       "      <td>42829.347</td>\n",
       "      <td>3047</td>\n",
       "      <td>618.849</td>\n",
       "      <td>361.348</td>\n",
       "    </tr>\n",
       "    <tr>\n",
       "      <th>Manhattan</th>\n",
       "      <td>1097</td>\n",
       "      <td>1716700.270</td>\n",
       "      <td>1616463.039</td>\n",
       "      <td>1097</td>\n",
       "      <td>11426.018</td>\n",
       "      <td>45640.966</td>\n",
       "      <td>1097</td>\n",
       "      <td>1333.850</td>\n",
       "      <td>678.809</td>\n",
       "    </tr>\n",
       "    <tr>\n",
       "      <th>Queens</th>\n",
       "      <td>3937</td>\n",
       "      <td>765146.343</td>\n",
       "      <td>332193.463</td>\n",
       "      <td>3937</td>\n",
       "      <td>7116.907</td>\n",
       "      <td>39106.759</td>\n",
       "      <td>3937</td>\n",
       "      <td>503.325</td>\n",
       "      <td>214.225</td>\n",
       "    </tr>\n",
       "    <tr>\n",
       "      <th>Staten Island</th>\n",
       "      <td>1961</td>\n",
       "      <td>583507.397</td>\n",
       "      <td>1020134.015</td>\n",
       "      <td>1961</td>\n",
       "      <td>1629.237</td>\n",
       "      <td>751.918</td>\n",
       "      <td>1961</td>\n",
       "      <td>403.258</td>\n",
       "      <td>1550.905</td>\n",
       "    </tr>\n",
       "  </tbody>\n",
       "</table>\n",
       "</div>"
      ],
      "text/plain": [
       "              soldPrice                            sqft                        \\\n",
       "                  count         mean          std count       mean        std   \n",
       "borough                                                                         \n",
       "Bronx              1273   530538.121   265929.544  1273   2383.314   6412.720   \n",
       "Brooklyn           3047  1064731.482   735927.796  3047   7136.969  42829.347   \n",
       "Manhattan          1097  1716700.270  1616463.039  1097  11426.018  45640.966   \n",
       "Queens             3937   765146.343   332193.463  3937   7116.907  39106.759   \n",
       "Staten Island      1961   583507.397  1020134.015  1961   1629.237    751.918   \n",
       "\n",
       "              PricePerSQFT                      \n",
       "                     count      mean       std  \n",
       "borough                                         \n",
       "Bronx                 1273   292.779   113.847  \n",
       "Brooklyn              3047   618.849   361.348  \n",
       "Manhattan             1097  1333.850   678.809  \n",
       "Queens                3937   503.325   214.225  \n",
       "Staten Island         1961   403.258  1550.905  "
      ]
     },
     "execution_count": 138,
     "metadata": {},
     "output_type": "execute_result"
    }
   ],
   "source": [
    "trulia_borough = trulia_copy1.groupby('borough')\n",
    "summaryborough = round(trulia_borough.agg(['count', 'mean', 'std']), 3)\n",
    "summaryborough"
   ]
  },
  {
   "cell_type": "code",
   "execution_count": 89,
   "metadata": {},
   "outputs": [],
   "source": [
    "a = summaryborough['soldPrice']['count'].sort_values()\n",
    "b = summaryborough['soldPrice']['mean'].sort_values()\n",
    "c = summaryborough['sqft']['mean'].sort_values()\n",
    "d = summaryborough['PricePerSQFT']['mean'].sort_values()"
   ]
  },
  {
   "cell_type": "code",
   "execution_count": 96,
   "metadata": {},
   "outputs": [
    {
     "data": {
      "text/plain": [
       "<matplotlib.axes._subplots.AxesSubplot at 0x1f50aa75a58>"
      ]
     },
     "execution_count": 96,
     "metadata": {},
     "output_type": "execute_result"
    },
    {
     "data": {
      "image/png": "[encoded data removed]",
      "text/plain": [
       "<Figure size 432x288 with 1 Axes>"
      ]
     },
     "metadata": {},
     "output_type": "display_data"
    }
   ],
   "source": [
    "a.plot.barh(color='#3a4559')"
   ]
  },
  {
   "cell_type": "code",
   "execution_count": 95,
   "metadata": {},
   "outputs": [
    {
     "data": {
      "text/plain": [
       "<matplotlib.axes._subplots.AxesSubplot at 0x1f50aa097f0>"
      ]
     },
     "execution_count": 95,
     "metadata": {},
     "output_type": "execute_result"
    },
    {
     "data": {
      "image/png": "[encoded data removed]",
      "text/plain": [
       "<Figure size 432x288 with 1 Axes>"
      ]
     },
     "metadata": {},
     "output_type": "display_data"
    }
   ],
   "source": [
    "b.plot.barh(color='#3a4559')"
   ]
  },
  {
   "cell_type": "code",
   "execution_count": 94,
   "metadata": {},
   "outputs": [
    {
     "data": {
      "text/plain": [
       "<matplotlib.axes._subplots.AxesSubplot at 0x1f50a96b0f0>"
      ]
     },
     "execution_count": 94,
     "metadata": {},
     "output_type": "execute_result"
    },
    {
     "data": {
      "image/png": "[encoded data removed]",
      "text/plain": [
       "<Figure size 432x288 with 1 Axes>"
      ]
     },
     "metadata": {},
     "output_type": "display_data"
    }
   ],
   "source": [
    "c.plot.barh(color='#3a4559')"
   ]
  },
  {
   "cell_type": "code",
   "execution_count": 93,
   "metadata": {},
   "outputs": [
    {
     "data": {
      "text/plain": [
       "<matplotlib.axes._subplots.AxesSubplot at 0x1f50a904208>"
      ]
     },
     "execution_count": 93,
     "metadata": {},
     "output_type": "execute_result"
    },
    {
     "data": {
      "image/png": "[encoded data removed]",
      "text/plain": [
       "<Figure size 432x288 with 1 Axes>"
      ]
     },
     "metadata": {},
     "output_type": "display_data"
    }
   ],
   "source": [
    "d.plot.barh(color='#3a4559')"
   ]
  },
  {
   "cell_type": "code",
   "execution_count": 92,
   "metadata": {},
   "outputs": [
    {
     "data": {
      "text/plain": [
       "borough\n",
       "Bronx             292.779\n",
       "Staten Island     403.258\n",
       "Queens            503.325\n",
       "Brooklyn          618.849\n",
       "Manhattan        1333.850\n",
       "Name: mean, dtype: float64"
      ]
     },
     "execution_count": 92,
     "metadata": {},
     "output_type": "execute_result"
    }
   ],
   "source": [
    "d"
   ]
  },
  {
   "cell_type": "markdown",
   "metadata": {},
   "source": [
    "### Further Analysis"
   ]
  },
  {
   "cell_type": "code",
   "execution_count": 118,
   "metadata": {},
   "outputs": [
    {
     "data": {
      "text/plain": [
       "(7, 17)"
      ]
     },
     "execution_count": 118,
     "metadata": {},
     "output_type": "execute_result"
    },
    {
     "data": {
      "image/png": "[encoded data removed]",
      "text/plain": [
       "<Figure size 432x288 with 1 Axes>"
      ]
     },
     "metadata": {},
     "output_type": "display_data"
    }
   ],
   "source": [
    "plt.hist(np.log(trulia_copy1['soldPrice']), bins=50, color=\"#3a4559\")\n",
    "plt.xlabel('Log of Sale Price')\n",
    "plt.ylabel('Count')\n",
    "# plt.title('Histogram of Sale Price', fontsize=20)\n",
    "plt.xlim(7, 17)"
   ]
  },
  {
   "cell_type": "code",
   "execution_count": 117,
   "metadata": {},
   "outputs": [
    {
     "data": {
      "text/plain": [
       "Text(0,0.5,'Count')"
      ]
     },
     "execution_count": 117,
     "metadata": {},
     "output_type": "execute_result"
    },
    {
     "data": {
      "image/png": "[encoded data removed]",
      "text/plain": [
       "<Figure size 432x288 with 1 Axes>"
      ]
     },
     "metadata": {},
     "output_type": "display_data"
    }
   ],
   "source": [
    "plt.hist(np.log(trulia_copy1['sqft']), bins = 50, color=\"#3a4559\")\n",
    "plt.xlabel('Log of Property Size (in sqft)')\n",
    "plt.ylabel('Count')\n",
    "# plt.title('Histogram of Sale Price', fontsize=20)\n",
    "# plt.xlim(7, 17)"
   ]
  },
  {
   "cell_type": "code",
   "execution_count": 126,
   "metadata": {},
   "outputs": [
    {
     "data": {
      "text/plain": [
       "Text(0,0.5,'Sale Price')"
      ]
     },
     "execution_count": 126,
     "metadata": {},
     "output_type": "execute_result"
    },
    {
     "data": {
      "image/png": "[encoded data removed]",
      "text/plain": [
       "<Figure size 432x288 with 1 Axes>"
      ]
     },
     "metadata": {},
     "output_type": "display_data"
    }
   ],
   "source": [
    "plt.scatter(trulia_copy1['soldPrice'], trulia_copy1['sqft'], color=\"#3a4559\")\n",
    "plt.xlabel('Property Size')\n",
    "plt.ylabel('Sale Price')"
   ]
  },
  {
   "cell_type": "code",
   "execution_count": 139,
   "metadata": {},
   "outputs": [],
   "source": [
    "trulia_scatter1 = trulia_copy1[['soldPrice', 'sqft']]\n",
    "trulia_scatter1 = trulia_scatter1.loc[trulia_scatter1.apply(lambda x: (np.abs(x - x.mean()) / x.std()) < 3).all(axis=1)]"
   ]
  },
  {
   "cell_type": "code",
   "execution_count": 140,
   "metadata": {},
   "outputs": [
    {
     "data": {
      "text/plain": [
       "<matplotlib.axes._subplots.AxesSubplot at 0x1f50d7abb00>"
      ]
     },
     "execution_count": 140,
     "metadata": {},
     "output_type": "execute_result"
    },
    {
     "data": {
      "image/png": "[encoded data removed]",
      "text/plain": [
       "<Figure size 432x288 with 1 Axes>"
      ]
     },
     "metadata": {},
     "output_type": "display_data"
    }
   ],
   "source": [
    "trulia_scatter1.plot.scatter(x='sqft', y='soldPrice', color=\"#3a4559\")"
   ]
  },
  {
   "cell_type": "code",
   "execution_count": 136,
   "metadata": {},
   "outputs": [
    {
     "data": {
      "text/html": [
       "<div>\n",
       "<style scoped>\n",
       "    .dataframe tbody tr th:only-of-type {\n",
       "        vertical-align: middle;\n",
       "    }\n",
       "\n",
       "    .dataframe tbody tr th {\n",
       "        vertical-align: top;\n",
       "    }\n",
       "\n",
       "    .dataframe thead th {\n",
       "        text-align: right;\n",
       "    }\n",
       "</style>\n",
       "<table border=\"1\" class=\"dataframe\">\n",
       "  <thead>\n",
       "    <tr style=\"text-align: right;\">\n",
       "      <th></th>\n",
       "      <th>address</th>\n",
       "      <th>city</th>\n",
       "      <th>soldDate</th>\n",
       "      <th>soldPrice</th>\n",
       "      <th>sqft</th>\n",
       "      <th>zipCode</th>\n",
       "      <th>borough</th>\n",
       "      <th>PricePerSQFT</th>\n",
       "    </tr>\n",
       "  </thead>\n",
       "  <tbody>\n",
       "    <tr>\n",
       "      <th>8830</th>\n",
       "      <td>270 Jay St #15J</td>\n",
       "      <td>Brooklyn</td>\n",
       "      <td>12-Jun-18</td>\n",
       "      <td>357000.0</td>\n",
       "      <td>883265</td>\n",
       "      <td>11201</td>\n",
       "      <td>Brooklyn</td>\n",
       "      <td>0.404182</td>\n",
       "    </tr>\n",
       "    <tr>\n",
       "      <th>11401</th>\n",
       "      <td>175 Adams St #14F</td>\n",
       "      <td>Brooklyn</td>\n",
       "      <td>4-Dec-18</td>\n",
       "      <td>585000.0</td>\n",
       "      <td>883265</td>\n",
       "      <td>11201</td>\n",
       "      <td>Brooklyn</td>\n",
       "      <td>0.662315</td>\n",
       "    </tr>\n",
       "    <tr>\n",
       "      <th>9468</th>\n",
       "      <td>201 Clinton Ave #15A</td>\n",
       "      <td>Brooklyn</td>\n",
       "      <td>6-Aug-18</td>\n",
       "      <td>720015.0</td>\n",
       "      <td>651914</td>\n",
       "      <td>11205</td>\n",
       "      <td>Brooklyn</td>\n",
       "      <td>1.104463</td>\n",
       "    </tr>\n",
       "    <tr>\n",
       "      <th>9511</th>\n",
       "      <td>2944 W 5th St #15E</td>\n",
       "      <td>Brooklyn</td>\n",
       "      <td>7-Aug-18</td>\n",
       "      <td>375000.0</td>\n",
       "      <td>623806</td>\n",
       "      <td>11224</td>\n",
       "      <td>Brooklyn</td>\n",
       "      <td>0.601148</td>\n",
       "    </tr>\n",
       "    <tr>\n",
       "      <th>9324</th>\n",
       "      <td>460 Neptune Ave #12M</td>\n",
       "      <td>Brooklyn</td>\n",
       "      <td>22-Jul-18</td>\n",
       "      <td>315000.0</td>\n",
       "      <td>623800</td>\n",
       "      <td>11224</td>\n",
       "      <td>Brooklyn</td>\n",
       "      <td>0.504970</td>\n",
       "    </tr>\n",
       "    <tr>\n",
       "      <th>11949</th>\n",
       "      <td>75 Henry St #8J</td>\n",
       "      <td>Brooklyn</td>\n",
       "      <td>8-Jan-19</td>\n",
       "      <td>550000.0</td>\n",
       "      <td>593599</td>\n",
       "      <td>11201</td>\n",
       "      <td>Brooklyn</td>\n",
       "      <td>0.926551</td>\n",
       "    </tr>\n",
       "    <tr>\n",
       "      <th>11137</th>\n",
       "      <td>75 Henry St #32A</td>\n",
       "      <td>Brooklyn</td>\n",
       "      <td>20-Nov-18</td>\n",
       "      <td>939000.0</td>\n",
       "      <td>593599</td>\n",
       "      <td>11201</td>\n",
       "      <td>Brooklyn</td>\n",
       "      <td>1.581876</td>\n",
       "    </tr>\n",
       "    <tr>\n",
       "      <th>6326</th>\n",
       "      <td>6115 98th St #10C</td>\n",
       "      <td>Rego Park</td>\n",
       "      <td>8-Jan-19</td>\n",
       "      <td>290000.0</td>\n",
       "      <td>580800</td>\n",
       "      <td>11374</td>\n",
       "      <td>Queens</td>\n",
       "      <td>0.499311</td>\n",
       "    </tr>\n",
       "    <tr>\n",
       "      <th>3296</th>\n",
       "      <td>7025 Yellowstone Blvd #9Y</td>\n",
       "      <td>Forest Hills</td>\n",
       "      <td>5-Jul-18</td>\n",
       "      <td>445000.0</td>\n",
       "      <td>575600</td>\n",
       "      <td>11375</td>\n",
       "      <td>Queens</td>\n",
       "      <td>0.773106</td>\n",
       "    </tr>\n",
       "    <tr>\n",
       "      <th>3542</th>\n",
       "      <td>7025 Yellowstone Blvd #9J</td>\n",
       "      <td>Forest Hills</td>\n",
       "      <td>23-Jul-18</td>\n",
       "      <td>690000.0</td>\n",
       "      <td>575600</td>\n",
       "      <td>11375</td>\n",
       "      <td>Queens</td>\n",
       "      <td>1.198749</td>\n",
       "    </tr>\n",
       "  </tbody>\n",
       "</table>\n",
       "</div>"
      ],
      "text/plain": [
       "                         address          city   soldDate  soldPrice    sqft  \\\n",
       "8830             270 Jay St #15J      Brooklyn  12-Jun-18   357000.0  883265   \n",
       "11401          175 Adams St #14F      Brooklyn   4-Dec-18   585000.0  883265   \n",
       "9468        201 Clinton Ave #15A      Brooklyn   6-Aug-18   720015.0  651914   \n",
       "9511          2944 W 5th St #15E      Brooklyn   7-Aug-18   375000.0  623806   \n",
       "9324        460 Neptune Ave #12M      Brooklyn  22-Jul-18   315000.0  623800   \n",
       "11949            75 Henry St #8J      Brooklyn   8-Jan-19   550000.0  593599   \n",
       "11137           75 Henry St #32A      Brooklyn  20-Nov-18   939000.0  593599   \n",
       "6326           6115 98th St #10C     Rego Park   8-Jan-19   290000.0  580800   \n",
       "3296   7025 Yellowstone Blvd #9Y  Forest Hills   5-Jul-18   445000.0  575600   \n",
       "3542   7025 Yellowstone Blvd #9J  Forest Hills  23-Jul-18   690000.0  575600   \n",
       "\n",
       "      zipCode   borough  PricePerSQFT  \n",
       "8830    11201  Brooklyn      0.404182  \n",
       "11401   11201  Brooklyn      0.662315  \n",
       "9468    11205  Brooklyn      1.104463  \n",
       "9511    11224  Brooklyn      0.601148  \n",
       "9324    11224  Brooklyn      0.504970  \n",
       "11949   11201  Brooklyn      0.926551  \n",
       "11137   11201  Brooklyn      1.581876  \n",
       "6326    11374    Queens      0.499311  \n",
       "3296    11375    Queens      0.773106  \n",
       "3542    11375    Queens      1.198749  "
      ]
     },
     "execution_count": 136,
     "metadata": {},
     "output_type": "execute_result"
    }
   ],
   "source": [
    "trulia_copy2 = trulia_copy1.sort_values('sqft', ascending = False)\n",
    "trulia_copy2.head(10)"
   ]
  },
  {
   "cell_type": "code",
   "execution_count": 145,
   "metadata": {},
   "outputs": [
    {
     "data": {
      "text/html": [
       "<div>\n",
       "<style scoped>\n",
       "    .dataframe tbody tr th:only-of-type {\n",
       "        vertical-align: middle;\n",
       "    }\n",
       "\n",
       "    .dataframe tbody tr th {\n",
       "        vertical-align: top;\n",
       "    }\n",
       "\n",
       "    .dataframe thead th {\n",
       "        text-align: right;\n",
       "    }\n",
       "</style>\n",
       "<table border=\"1\" class=\"dataframe\">\n",
       "  <thead>\n",
       "    <tr style=\"text-align: right;\">\n",
       "      <th></th>\n",
       "      <th>soldPrice</th>\n",
       "      <th>sqft</th>\n",
       "      <th>PricePerSQFT</th>\n",
       "    </tr>\n",
       "  </thead>\n",
       "  <tbody>\n",
       "    <tr>\n",
       "      <th>soldPrice</th>\n",
       "      <td>1.000000</td>\n",
       "      <td>-0.044628</td>\n",
       "      <td>0.706792</td>\n",
       "    </tr>\n",
       "    <tr>\n",
       "      <th>sqft</th>\n",
       "      <td>-0.044628</td>\n",
       "      <td>1.000000</td>\n",
       "      <td>-0.096262</td>\n",
       "    </tr>\n",
       "    <tr>\n",
       "      <th>PricePerSQFT</th>\n",
       "      <td>0.706792</td>\n",
       "      <td>-0.096262</td>\n",
       "      <td>1.000000</td>\n",
       "    </tr>\n",
       "  </tbody>\n",
       "</table>\n",
       "</div>"
      ],
      "text/plain": [
       "              soldPrice      sqft  PricePerSQFT\n",
       "soldPrice      1.000000 -0.044628      0.706792\n",
       "sqft          -0.044628  1.000000     -0.096262\n",
       "PricePerSQFT   0.706792 -0.096262      1.000000"
      ]
     },
     "execution_count": 145,
     "metadata": {},
     "output_type": "execute_result"
    }
   ],
   "source": [
    "trulia_copy1.corr()"
   ]
  },
  {
   "cell_type": "markdown",
   "metadata": {},
   "source": [
    "Top 10 Zip Codes: Price per sqft."
   ]
  },
  {
   "cell_type": "code",
   "execution_count": 146,
   "metadata": {},
   "outputs": [
    {
     "data": {
      "text/plain": [
       "180"
      ]
     },
     "execution_count": 146,
     "metadata": {},
     "output_type": "execute_result"
    }
   ],
   "source": [
    "len(trulia_copy1.zipCode.unique())"
   ]
  },
  {
   "cell_type": "code",
   "execution_count": 156,
   "metadata": {},
   "outputs": [
    {
     "data": {
      "text/plain": [
       "<matplotlib.axes._subplots.AxesSubplot at 0x1f50dd9ac18>"
      ]
     },
     "execution_count": 156,
     "metadata": {},
     "output_type": "execute_result"
    },
    {
     "data": {
      "image/png": "[encoded data removed]",
      "text/plain": [
       "<Figure size 432x288 with 1 Axes>"
      ]
     },
     "metadata": {},
     "output_type": "display_data"
    }
   ],
   "source": [
    "trulia_zipcode = trulia_copy1.groupby('zipCode')\n",
    "summaryZipcode = round(trulia_zipcode.agg(['count', 'mean', 'std']), 3)\n",
    "e = summaryZipcode['PricePerSQFT']['mean'].sort_values().head(10)\n",
    "e.plot.barh(color='#3a4559')"
   ]
  },
  {
   "cell_type": "markdown",
   "metadata": {},
   "source": [
    "Population per Borough =(US Census Bureau, 2010)"
   ]
  },
  {
   "cell_type": "code",
   "execution_count": 166,
   "metadata": {},
   "outputs": [
    {
     "data": {
      "text/html": [
       "<div>\n",
       "<style scoped>\n",
       "    .dataframe tbody tr th:only-of-type {\n",
       "        vertical-align: middle;\n",
       "    }\n",
       "\n",
       "    .dataframe tbody tr th {\n",
       "        vertical-align: top;\n",
       "    }\n",
       "\n",
       "    .dataframe thead th {\n",
       "        text-align: right;\n",
       "    }\n",
       "</style>\n",
       "<table border=\"1\" class=\"dataframe\">\n",
       "  <thead>\n",
       "    <tr style=\"text-align: right;\">\n",
       "      <th></th>\n",
       "      <th>Population (2010)</th>\n",
       "    </tr>\n",
       "    <tr>\n",
       "      <th>Borough</th>\n",
       "      <th></th>\n",
       "    </tr>\n",
       "  </thead>\n",
       "  <tbody>\n",
       "    <tr>\n",
       "      <th>Brooklyn</th>\n",
       "      <td>2,504,706</td>\n",
       "    </tr>\n",
       "    <tr>\n",
       "      <th>Queens</th>\n",
       "      <td>2,230,545</td>\n",
       "    </tr>\n",
       "    <tr>\n",
       "      <th>Manhattan</th>\n",
       "      <td>1,586,184</td>\n",
       "    </tr>\n",
       "    <tr>\n",
       "      <th>Bronx</th>\n",
       "      <td>1,384,794</td>\n",
       "    </tr>\n",
       "    <tr>\n",
       "      <th>Staten Island</th>\n",
       "      <td>468,730</td>\n",
       "    </tr>\n",
       "  </tbody>\n",
       "</table>\n",
       "</div>"
      ],
      "text/plain": [
       "              Population (2010)\n",
       "Borough                        \n",
       "Brooklyn              2,504,706\n",
       "Queens                2,230,545\n",
       "Manhattan             1,586,184\n",
       "Bronx                 1,384,794\n",
       "Staten Island           468,730"
      ]
     },
     "execution_count": 166,
     "metadata": {},
     "output_type": "execute_result"
    }
   ],
   "source": [
    "boroPop = pd.DataFrame([['Bronx', 1384794],\n",
    "                        ['Brooklyn', 2504706],\n",
    "                        ['Manhattan', 1586184],\n",
    "                        ['Queens', 2230545],\n",
    "                        ['Staten Island', 468730]],\n",
    "                        columns =['Borough', 'Population (2010)'])\n",
    "boroPop = boroPop.set_index('Borough')\n",
    "boroPop = boroPop.sort_values('Population (2010)', ascending=False)\n",
    "boroPop['Population (2010)'] = boroPop['Population (2010)'].apply(lambda x: \"{:,}\".format(x))\n",
    "boroPop"
   ]
  }
 ],
 "metadata": {
  "kernelspec": {
   "display_name": "Python 3",
   "language": "python",
   "name": "python3"
  },
  "language_info": {
   "codemirror_mode": {
    "name": "ipython",
    "version": 3
   },
   "file_extension": ".py",
   "mimetype": "text/x-python",
   "name": "python",
   "nbconvert_exporter": "python",
   "pygments_lexer": "ipython3",
   "version": "3.6.5"
  }
 },
 "nbformat": 4,
 "nbformat_minor": 2
}
